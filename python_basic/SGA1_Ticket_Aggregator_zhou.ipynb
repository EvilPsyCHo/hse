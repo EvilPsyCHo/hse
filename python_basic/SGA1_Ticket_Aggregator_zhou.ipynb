{
 "cells": [
  {
   "cell_type": "markdown",
   "metadata": {},
   "source": [
    "# SGA1_Ticket_Aggregator_zhou"
   ]
  },
  {
   "cell_type": "markdown",
   "metadata": {},
   "source": [
    "## solution V1: follow 4 original criteria"
   ]
  },
  {
   "cell_type": "code",
   "execution_count": 101,
   "metadata": {},
   "outputs": [],
   "source": [
    "def price_input_check():\n",
    "    try:\n",
    "        price = float(input(\"How much is the ticket price($)? please fill in the number like 200 or 220.5:  \"))\n",
    "        if price <= 0:\n",
    "            raise ValueError\n",
    "        return price\n",
    "    except:\n",
    "        print(\"input price is not correct, please input again.\")\n",
    "        price_input_check()\n",
    "        \n",
    "def transfer_input_check():\n",
    "    try:\n",
    "        transfer = int(input(\"How many transfers are needed? please fill in the number like 1:  \"))\n",
    "        if transfer < 0:\n",
    "            raise ValueError\n",
    "        return transfer\n",
    "    except:\n",
    "        print(\"num transfer is not correct, please input again.\")\n",
    "        transfer_input_check()\n",
    "        \n",
    "def refund_input_check():\n",
    "    refund = input(\"indlude refund? please input YSE or NO:  \")\n",
    "    if refund.upper() in [\"YES\", \"NO\"]:\n",
    "        return refund.upper()\n",
    "    else:\n",
    "        print(\"refund input is not correct, please input again\")\n",
    "        refund_input_check()\n",
    "        \n",
    "def luggage_input_check():\n",
    "    luggage = input(\"indlude luggage? please input YSE or NO:  \")\n",
    "    if luggage.upper() in [\"YES\", \"NO\"]:\n",
    "        return luggage.upper()\n",
    "    else:\n",
    "        print(\"luggage input is not correct, please input again\")\n",
    "        luggage_input_check()\n",
    "\n",
    "        \n",
    "def rule_v1(price, transfer, refund, luggage):\n",
    "    if (price < 200) and (transfer <= 1) and (refund == \"YES\") and (luggage == \"YES\"):\n",
    "        return \"the bset\"\n",
    "    elif (price <= 250) and (transfer <= 2):\n",
    "        return \"good enough\"\n",
    "    elif (price > 250) and (transfer >=3):\n",
    "        return \"bad\"\n",
    "    else:\n",
    "        return \"other\"\n",
    "    \n",
    "\n",
    "def ticket_aggregator_v1():\n",
    "    price = price_input_check()\n",
    "    transfer = transfer_input_check()\n",
    "    refund = refund_input_check()\n",
    "    luggage = luggage_input_check()\n",
    "    metric = rule_v1(price, transfer, refund, luggage)\n",
    "    desc = f\"It's {metric}, price: {price:.1f}$, num of transfer: {transfer},\"\n",
    "    desc += f\" include refund? {refund}! include luggage {luggage}!\"\n",
    "    print(desc)"
   ]
  },
  {
   "cell_type": "markdown",
   "metadata": {},
   "source": [
    "## test solution v1"
   ]
  },
  {
   "cell_type": "code",
   "execution_count": 103,
   "metadata": {},
   "outputs": [
    {
     "name": "stdout",
     "output_type": "stream",
     "text": [
      "How much is the ticket price($)? please fill in the number like 200 or 220.5:  300\n",
      "How many transfers are needed? please fill in the number like 1:  1\n",
      "indlude refund? please input YSE or NO:  no\n",
      "indlude luggage? please input YSE or NO:  no\n",
      "It's other, price: 300.0$, num of transfer: 1, include refund? NO! include luggage NO!\n"
     ]
    }
   ],
   "source": [
    "ticket_aggregator_v1()"
   ]
  },
  {
   "cell_type": "markdown",
   "metadata": {},
   "source": [
    "## solution v2\n",
    "\n",
    "I think there are some special situations in “other” categories. For example, some tickets may be very cheap, but require multiple transfers or do not support refunds, and which Some people with financial difficulties can choose this. Or the service is very good, for example, you don't need to transfer at all, you can refund and luggage are both support, but the price is relatively high, you can choose this if you don't care about the price.\n",
    "\n",
    "so, i add two new categoies into solution v1:\n",
    "\n",
    "- \"just cheap\", the price is less than 200\\$, but But doesn’t meet ”the best“ other criteria.\n",
    "- \"good service\", the price is more than 250\\$, but meet \"the best\" other criteria."
   ]
  },
  {
   "cell_type": "code",
   "execution_count": 104,
   "metadata": {},
   "outputs": [],
   "source": [
    "def rule_v2(price, transfer, refund, luggage):\n",
    "    if (price < 200):\n",
    "        if (transfer <= 1) and (refund == \"YES\") and (luggage == \"YES\"):\n",
    "            return \"the bset\"\n",
    "        else:\n",
    "            return \"just cheap\"\n",
    "    elif (200 <=price <= 250) and (transfer <= 2):\n",
    "        return \"good enough\"\n",
    "    elif (price > 250) and (transfer <= 1) and (refund == \"YES\") and (luggage == \"YES\"):\n",
    "        return \"good service\"\n",
    "    elif (price > 250) and (transfer >=3):\n",
    "        return \"bad\"\n",
    "    else:\n",
    "        return \"other\"\n",
    "    \n",
    "\n",
    "def ticket_aggregator_v2():\n",
    "    price = price_input_check()\n",
    "    transfer = transfer_input_check()\n",
    "    refund = refund_input_check()\n",
    "    luggage = luggage_input_check()\n",
    "    metric = rule_v2(price, transfer, refund, luggage)\n",
    "    desc = f\"It's {metric}, price: {price:.1f}$, num of transfer: {transfer},\"\n",
    "    desc += f\" include refund? {refund}! include luggage {luggage}!\"\n",
    "    print(desc)"
   ]
  },
  {
   "cell_type": "markdown",
   "metadata": {},
   "source": [
    "## test solution v2"
   ]
  },
  {
   "cell_type": "code",
   "execution_count": 106,
   "metadata": {},
   "outputs": [
    {
     "name": "stdout",
     "output_type": "stream",
     "text": [
      "How much is the ticket price($)? please fill in the number like 200 or 220.5:  180\n",
      "How many transfers are needed? please fill in the number like 1:  3\n",
      "indlude refund? please input YSE or NO:  no\n",
      "indlude luggage? please input YSE or NO:  o\n",
      "luggage input is not correct, please input again\n",
      "indlude luggage? please input YSE or NO:  no\n",
      "It's just cheap, price: 180.0$, num of transfer: 3, include refund? NO! include luggage None!\n"
     ]
    }
   ],
   "source": [
    "ticket_aggregator_v2()"
   ]
  },
  {
   "cell_type": "code",
   "execution_count": 109,
   "metadata": {},
   "outputs": [
    {
     "name": "stdout",
     "output_type": "stream",
     "text": [
      "How much is the ticket price($)? please fill in the number like 200 or 220.5:  300\n",
      "How many transfers are needed? please fill in the number like 1:  0\n",
      "indlude refund? please input YSE or NO:  yes\n",
      "indlude luggage? please input YSE or NO:  yes\n",
      "It's good service, price: 300.0$, num of transfer: 0, include refund? YES! include luggage YES!\n"
     ]
    }
   ],
   "source": [
    "ticket_aggregator_v2()"
   ]
  },
  {
   "cell_type": "code",
   "execution_count": null,
   "metadata": {},
   "outputs": [],
   "source": []
  }
 ],
 "metadata": {
  "kernelspec": {
   "display_name": "Python [conda env:torch]",
   "language": "python",
   "name": "conda-env-torch-py"
  },
  "language_info": {
   "codemirror_mode": {
    "name": "ipython",
    "version": 3
   },
   "file_extension": ".py",
   "mimetype": "text/x-python",
   "name": "python",
   "nbconvert_exporter": "python",
   "pygments_lexer": "ipython3",
   "version": "3.7.6"
  }
 },
 "nbformat": 4,
 "nbformat_minor": 4
}
